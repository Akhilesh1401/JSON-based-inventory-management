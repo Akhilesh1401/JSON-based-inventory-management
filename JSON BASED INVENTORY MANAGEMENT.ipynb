{
 "cells": [
  {
   "cell_type": "markdown",
   "metadata": {},
   "source": [
    "# JSON BASED INVENTORY MANAGEMENT"
   ]
  },
  {
   "cell_type": "code",
   "execution_count": 65,
   "metadata": {},
   "outputs": [],
   "source": [
    "import json \n",
    "import time"
   ]
  },
  {
   "cell_type": "markdown",
   "metadata": {},
   "source": [
    "# MAKING A DICTIONARY(JSON FORMAT)"
   ]
  },
  {
   "cell_type": "code",
   "execution_count": 66,
   "metadata": {},
   "outputs": [],
   "source": [
    "records={'1001' : {'name': 'Choco Cake', 'pr': 100, 'qn': 34,'company':'nestle','expiry date':13/12/21},\n",
    " '1002': {'name': 'Milk Cake', 'pr': 800, 'qn': 100,'company':'nestle','expiry date':20/3/21},\n",
    " '1003': {'name': 'Drink', 'pr': 85, 'qn': 100,'company':'nestle','expiry date':14/12/21},\n",
    " '1004': {'name': 'Candy', 'pr': 5, 'qn': 100,'company':'nestle','expiry date':15/12/21},\n",
    " '1005': {'name': 'Pen', 'pr': 20, 'qn': 100,'company':'nestle','expiry date':15/12/21},\n",
    " '1006': {'name': 'Phone', 'pr': 50000, 'qn': 10,'company':'nestle','expiry date':30/12/21},\n",
    " '1007': {'name': 'Mic', 'pr': 1500, 'qn': 0,'company':'nestle','expiry date':13/1/21},\n",
    " '1008': {'name': 'Case', 'pr': 599, 'qn': 5,'company':'nestle','expiry date':3/2/21},\n",
    " '1009': {'name': 'Milk Cake', 'pr': 800, 'qn': 100,'company':'nestle','expiry date':4/3/21},\n",
    " '1010': {'name': 'Drink', 'pr': 85, 'qn': 100,'company':'nestle','expiry date':13/4/21},\n",
    " '1011': {'name': 'Candy', 'pr': 5, 'qn': 1000,'company':'nestle','expiry date':13/5/21},\n",
    " '1012': {'name': 'Pen', 'pr': 20, 'qn': 100,'company':'nestle','expiry date':13/6/21},\n",
    " '1013': {'name': 'Phone', 'pr': 50000, 'qn': 10,'company':'nestle','expiry date':13/7/21},\n",
    " '1014': {'name': 'Mic', 'pr': 1500, 'qn': 0,'company':'nestle','expiry date':13/8/21},\n",
    " '1015': {'name': 'Case', 'pr': 599, 'qn': 5,'company':'nestle','expiry date':13/4/21}, \n",
    " '1016': {'name': 'Milk Cake', 'pr': 800, 'qn': 100,'company':'nestle','expiry date':15/2/21},\n",
    " '1017': {'name': 'Drink', 'pr': 85, 'qn': 100,'company':'nestle','expiry date':13/12/21},\n",
    " '1018': {'name': 'Candy', 'pr': 5, 'qn': 1000,'company':'nestle','expiry date':13/12/21},\n",
    " '1019': {'name': 'Pen', 'pr': 20, 'qn': 100,'company':'nestle','expiry date':13/12/21},\n",
    " '1020': {'name': 'Phone', 'pr': 50000, 'qn': 10,'company':'nestle','expiry date':13/12/21},\n",
    " '1021': {'name': 'Mic', 'pr': 1500, 'qn': 0,'company':'nestle','expiry date':13/12/21},\n",
    " '1022': {'name': 'Case', 'pr': 599, 'qn': 5,'company':'nestle','expiry date':13/12/21},\n",
    " '1023': {'name': 'Milk Cake', 'pr': 800, 'qn': 100,'company':'nestle','expiry date':13/12/21},\n",
    " '1024': {'name': 'Drink', 'pr': 85, 'qn': 100,'company':'nestle','expiry date':13/12/21},\n",
    " '1025': {'name': 'Candy', 'pr': 5, 'qn': 1000,'company':'nestle','expiry date':13/12/21},\n",
    " '1026': {'name': 'Pen', 'pr': 20, 'qn': 100,'company':'nestle','expiry date':13/12/21},\n",
    " '1027': {'name': 'Phone', 'pr': 50000, 'qn': 10,'company':'nestle','expiry date':13/12/21},\n",
    " '1028': {'name': 'Mic', 'pr': 1500, 'qn': 0,'company':'nestle','expiry date':13/12/21},\n",
    " '1029': {'name': 'Case', 'pr': 599, 'qn': 5,'company':'nestle','expiry date':13/12/21},\n",
    " '1030': {'name': 'Case', 'pr': 599, 'qn': 5,'company':'nestle','expiry date':13/12/21}}\n",
    " "
   ]
  },
  {
   "cell_type": "markdown",
   "metadata": {},
   "source": [
    "# Reading the json format"
   ]
  },
  {
   "cell_type": "code",
   "execution_count": 67,
   "metadata": {},
   "outputs": [],
   "source": [
    "fd=open('records.txt','r')\n",
    "txt=fd.read()\n",
    "fd.close() "
   ]
  },
  {
   "cell_type": "code",
   "execution_count": 68,
   "metadata": {},
   "outputs": [
    {
     "data": {
      "text/plain": [
       "\"records={'1001' : {'name': 'Choco Cake', 'pr': 100, 'qn': 34,'company':'nestle','expiry date':13/12/21},\\n '1002': {'name': 'Milk Cake', 'pr': 800, 'qn': 100,'company':'nestle','expiry date':20/3/21},\\n '1003': {'name': 'Drink', 'pr': 85, 'qn': 100,'company':'nestle','expiry date':14/12/21},\\n '1004': {'name': 'Candy', 'pr': 5, 'qn': 100,'company':'nestle','expiry date':15/12/21},\\n '1005': {'name': 'Pen', 'pr': 20, 'qn': 100,'company':'nestle','expiry date':15/12/21},\\n '1006': {'name': 'Phone', 'pr': 50000, 'qn': 10,'company':'nestle','expiry date':30/12/21},\\n '1007': {'name': 'Mic', 'pr': 1500, 'qn': 0,'company':'nestle','expiry date':13/1/21},\\n '1008': {'name': 'Case', 'pr': 599, 'qn': 5,'company':'nestle','expiry date':3/2/21},\\n '1009': {'name': 'Milk Cake', 'pr': 800, 'qn': 100,'company':'nestle','expiry date':4/3/21},\\n '1010': {'name': 'Drink', 'pr': 85, 'qn': 100,'company':'nestle','expiry date':13/4/21},\\n '1011': {'name': 'Candy', 'pr': 5, 'qn': 1000,'company':'nestle','expiry date':13/5/21},\\n '1012': {'name': 'Pen', 'pr': 20, 'qn': 100,'company':'nestle','expiry date':13/6/21},\\n '1013': {'name': 'Phone', 'pr': 50000, 'qn': 10,'company':'nestle','expiry date':13/7/21},\\n '1014': {'name': 'Mic', 'pr': 1500, 'qn': 0,'company':'nestle','expiry date':13/8/21},\\n '1015': {'name': 'Case', 'pr': 599, 'qn': 5,'company':'nestle','expiry date':13/4/21}, \\n '1016': {'name': 'Milk Cake', 'pr': 800, 'qn': 100,'company':'nestle','expiry date':15/2/21},\\n '1017': {'name': 'Drink', 'pr': 85, 'qn': 100,'company':'nestle','expiry date':13/12/21},\\n '1018': {'name': 'Candy', 'pr': 5, 'qn': 1000,'company':'nestle','expiry date':13/12/21},\\n '1019': {'name': 'Pen', 'pr': 20, 'qn': 100,'company':'nestle','expiry date':13/12/21},\\n '1020': {'name': 'Phone', 'pr': 50000, 'qn': 10,'company':'nestle','expiry date':13/12/21},\\n '1021': {'name': 'Mic', 'pr': 1500, 'qn': 0,'company':'nestle','expiry date':13/12/21},\\n '1022': {'name': 'Case', 'pr': 599, 'qn': 5,'company':'nestle','expiry date':13/12/21},\\n '1023': {'name': 'Milk Cake', 'pr': 800, 'qn': 100,'company':'nestle','expiry date':13/12/21},\\n '1024': {'name': 'Drink', 'pr': 85, 'qn': 100,'company':'nestle','expiry date':13/12/21},\\n '1025': {'name': 'Candy', 'pr': 5, 'qn': 1000,'company':'nestle','expiry date':13/12/21},\\n '1026': {'name': 'Pen', 'pr': 20, 'qn': 100,'company':'nestle','expiry date':13/12/21},\\n '1027': {'name': 'Phone', 'pr': 50000, 'qn': 10,'company':'nestle','expiry date':13/12/21},\\n '1028': {'name': 'Mic', 'pr': 1500, 'qn': 0,'company':'nestle','expiry date':13/12/21},\\n '1029': {'name': 'Case', 'pr': 599, 'qn': 5,'company':'nestle','expiry date':13/12/21},\\n '1030': {'name': 'Case', 'pr': 599, 'qn': 5,'company':'nestle','expiry date':13/12/21}}\""
      ]
     },
     "execution_count": 68,
     "metadata": {},
     "output_type": "execute_result"
    }
   ],
   "source": [
    "txt"
   ]
  },
  {
   "cell_type": "markdown",
   "metadata": {},
   "source": [
    "# Performing various operations on dictionary"
   ]
  },
  {
   "cell_type": "code",
   "execution_count": 69,
   "metadata": {},
   "outputs": [
    {
     "data": {
      "text/plain": [
       "{'1001': {'name': 'Choco Cake',\n",
       "  'pr': 100,\n",
       "  'qn': 34,\n",
       "  'company': 'nestle',\n",
       "  'expiry date': 0.051587301587301584},\n",
       " '1002': {'name': 'Milk Cake',\n",
       "  'pr': 800,\n",
       "  'qn': 100,\n",
       "  'company': 'nestle',\n",
       "  'expiry date': 0.3174603174603175},\n",
       " '1003': {'name': 'Drink',\n",
       "  'pr': 85,\n",
       "  'qn': 100,\n",
       "  'company': 'nestle',\n",
       "  'expiry date': 0.05555555555555556},\n",
       " '1004': {'name': 'Candy',\n",
       "  'pr': 5,\n",
       "  'qn': 100,\n",
       "  'company': 'nestle',\n",
       "  'expiry date': 0.05952380952380952},\n",
       " '1005': {'name': 'Pen',\n",
       "  'pr': 20,\n",
       "  'qn': 100,\n",
       "  'company': 'nestle',\n",
       "  'expiry date': 0.05952380952380952},\n",
       " '1006': {'name': 'Phone',\n",
       "  'pr': 50000,\n",
       "  'qn': 10,\n",
       "  'company': 'nestle',\n",
       "  'expiry date': 0.11904761904761904},\n",
       " '1007': {'name': 'Mic',\n",
       "  'pr': 1500,\n",
       "  'qn': 0,\n",
       "  'company': 'nestle',\n",
       "  'expiry date': 0.6190476190476191},\n",
       " '1008': {'name': 'Case',\n",
       "  'pr': 599,\n",
       "  'qn': 5,\n",
       "  'company': 'nestle',\n",
       "  'expiry date': 0.07142857142857142},\n",
       " '1009': {'name': 'Milk Cake',\n",
       "  'pr': 800,\n",
       "  'qn': 100,\n",
       "  'company': 'nestle',\n",
       "  'expiry date': 0.06349206349206349},\n",
       " '1010': {'name': 'Drink',\n",
       "  'pr': 85,\n",
       "  'qn': 100,\n",
       "  'company': 'nestle',\n",
       "  'expiry date': 0.15476190476190477},\n",
       " '1011': {'name': 'Candy',\n",
       "  'pr': 5,\n",
       "  'qn': 1000,\n",
       "  'company': 'nestle',\n",
       "  'expiry date': 0.12380952380952381},\n",
       " '1012': {'name': 'Pen',\n",
       "  'pr': 20,\n",
       "  'qn': 100,\n",
       "  'company': 'nestle',\n",
       "  'expiry date': 0.10317460317460317},\n",
       " '1013': {'name': 'Phone',\n",
       "  'pr': 50000,\n",
       "  'qn': 10,\n",
       "  'company': 'nestle',\n",
       "  'expiry date': 0.08843537414965986},\n",
       " '1014': {'name': 'Mic',\n",
       "  'pr': 1500,\n",
       "  'qn': 0,\n",
       "  'company': 'nestle',\n",
       "  'expiry date': 0.07738095238095238},\n",
       " '1015': {'name': 'Case',\n",
       "  'pr': 599,\n",
       "  'qn': 5,\n",
       "  'company': 'nestle',\n",
       "  'expiry date': 0.15476190476190477},\n",
       " '1016': {'name': 'Milk Cake',\n",
       "  'pr': 800,\n",
       "  'qn': 100,\n",
       "  'company': 'nestle',\n",
       "  'expiry date': 0.35714285714285715},\n",
       " '1017': {'name': 'Drink',\n",
       "  'pr': 85,\n",
       "  'qn': 100,\n",
       "  'company': 'nestle',\n",
       "  'expiry date': 0.051587301587301584},\n",
       " '1018': {'name': 'Candy',\n",
       "  'pr': 5,\n",
       "  'qn': 1000,\n",
       "  'company': 'nestle',\n",
       "  'expiry date': 0.051587301587301584},\n",
       " '1019': {'name': 'Pen',\n",
       "  'pr': 20,\n",
       "  'qn': 100,\n",
       "  'company': 'nestle',\n",
       "  'expiry date': 0.051587301587301584},\n",
       " '1020': {'name': 'Phone',\n",
       "  'pr': 50000,\n",
       "  'qn': 10,\n",
       "  'company': 'nestle',\n",
       "  'expiry date': 0.051587301587301584},\n",
       " '1021': {'name': 'Mic',\n",
       "  'pr': 1500,\n",
       "  'qn': 0,\n",
       "  'company': 'nestle',\n",
       "  'expiry date': 0.051587301587301584},\n",
       " '1022': {'name': 'Case',\n",
       "  'pr': 599,\n",
       "  'qn': 5,\n",
       "  'company': 'nestle',\n",
       "  'expiry date': 0.051587301587301584},\n",
       " '1023': {'name': 'Milk Cake',\n",
       "  'pr': 800,\n",
       "  'qn': 100,\n",
       "  'company': 'nestle',\n",
       "  'expiry date': 0.051587301587301584},\n",
       " '1024': {'name': 'Drink',\n",
       "  'pr': 85,\n",
       "  'qn': 100,\n",
       "  'company': 'nestle',\n",
       "  'expiry date': 0.051587301587301584},\n",
       " '1025': {'name': 'Candy',\n",
       "  'pr': 5,\n",
       "  'qn': 1000,\n",
       "  'company': 'nestle',\n",
       "  'expiry date': 0.051587301587301584},\n",
       " '1026': {'name': 'Pen',\n",
       "  'pr': 20,\n",
       "  'qn': 100,\n",
       "  'company': 'nestle',\n",
       "  'expiry date': 0.051587301587301584},\n",
       " '1027': {'name': 'Phone',\n",
       "  'pr': 50000,\n",
       "  'qn': 10,\n",
       "  'company': 'nestle',\n",
       "  'expiry date': 0.051587301587301584},\n",
       " '1028': {'name': 'Mic',\n",
       "  'pr': 1500,\n",
       "  'qn': 0,\n",
       "  'company': 'nestle',\n",
       "  'expiry date': 0.051587301587301584},\n",
       " '1029': {'name': 'Case',\n",
       "  'pr': 599,\n",
       "  'qn': 5,\n",
       "  'company': 'nestle',\n",
       "  'expiry date': 0.051587301587301584},\n",
       " '1030': {'name': 'Case',\n",
       "  'pr': 599,\n",
       "  'qn': 5,\n",
       "  'company': 'nestle',\n",
       "  'expiry date': 0.051587301587301584}}"
      ]
     },
     "execution_count": 69,
     "metadata": {},
     "output_type": "execute_result"
    }
   ],
   "source": [
    "records"
   ]
  },
  {
   "cell_type": "markdown",
   "metadata": {},
   "source": [
    "# Purchase"
   ]
  },
  {
   "cell_type": "code",
   "execution_count": 70,
   "metadata": {},
   "outputs": [
    {
     "name": "stdout",
     "output_type": "stream",
     "text": [
      "Enter the product_Id: 1002\n",
      "Enter the quantity: 22\n",
      "Product:  Milk Cake\n",
      "Price:  800\n",
      "Billing Amount:  17600\n"
     ]
    }
   ],
   "source": [
    "ui_prod  = str(input(\"Enter the product_Id: \"))\n",
    "ui_quant = int(input(\"Enter the quantity: \"))\n",
    "\n",
    "\n",
    "print(\"Product: \", records[ui_prod]['name'])\n",
    "print(\"Price: \", records[ui_prod]['pr'])\n",
    "print(\"Billing Amount: \", records[ui_prod]['pr'] * ui_quant)\n",
    "\n",
    "records[ui_prod]['qn'] = records[ui_prod]['qn'] - ui_quant"
   ]
  },
  {
   "cell_type": "code",
   "execution_count": 71,
   "metadata": {},
   "outputs": [],
   "source": [
    "js = json.dumps(records)\n",
    "\n",
    "fd = open(\"records.json\",'w')\n",
    "fd.write(js)\n",
    "fd.close()"
   ]
  },
  {
   "cell_type": "code",
   "execution_count": 72,
   "metadata": {},
   "outputs": [
    {
     "data": {
      "text/plain": [
       "{'prod': '1002', 'qn': 22, 'amount': 17600}"
      ]
     },
     "execution_count": 72,
     "metadata": {},
     "output_type": "execute_result"
    }
   ],
   "source": [
    "{'prod' : ui_prod, 'qn' : ui_quant, 'amount': records[ui_prod]['pr'] * ui_quant}"
   ]
  },
  {
   "cell_type": "code",
   "execution_count": 73,
   "metadata": {},
   "outputs": [],
   "source": [
    "sales = {1 : {'prod' : ui_prod, 'qn' : ui_quant, 'amount': records[ui_prod]['pr'] * ui_quant},\n",
    "         2 : {'prod' : ui_prod, 'qn' : ui_quant, 'amount': records[ui_prod]['pr'] * ui_quant},\n",
    "         3 : {'prod' : ui_prod, 'qn' : ui_quant, 'amount': records[ui_prod]['pr'] * ui_quant},\n",
    "         4 : {'prod' : ui_prod, 'qn' : ui_quant, 'amount': records[ui_prod]['pr'] * ui_quant},\n",
    "         5 : {'prod' : ui_prod, 'qn' : ui_quant, 'amount': records[ui_prod]['pr'] * ui_quant},\n",
    "         6 : {'prod' : ui_prod, 'qn' : ui_quant, 'amount': records[ui_prod]['pr'] * ui_quant},\n",
    "         7 : {'prod' : ui_prod, 'qn' : ui_quant, 'amount': records[ui_prod]['pr'] * ui_quant},\n",
    "         8 : {'prod' : ui_prod, 'qn' : ui_quant, 'amount': records[ui_prod]['pr'] * ui_quant},\n",
    "         9 : {'prod' : ui_prod, 'qn' : ui_quant, 'amount': records[ui_prod]['pr'] * ui_quant},\n",
    "         10 : {'prod' : ui_prod, 'qn' : ui_quant, 'amount': records[ui_prod]['pr'] * ui_quant},\n",
    "         11: {'prod' : ui_prod, 'qn' : ui_quant, 'amount': records[ui_prod]['pr'] * ui_quant},\n",
    "         12 : {'prod' : ui_prod, 'qn' : ui_quant, 'amount': records[ui_prod]['pr'] * ui_quant},\n",
    "         13 : {'prod' : ui_prod, 'qn' : ui_quant, 'amount': records[ui_prod]['pr'] * ui_quant},\n",
    "         14 : {'prod' : ui_prod, 'qn' : ui_quant, 'amount': records[ui_prod]['pr'] * ui_quant},\n",
    "         15 : {'prod' : ui_prod, 'qn' : ui_quant, 'amount': records[ui_prod]['pr'] * ui_quant},\n",
    "         16 : {'prod' : ui_prod, 'qn' : ui_quant, 'amount': records[ui_prod]['pr'] * ui_quant},\n",
    "         17 : {'prod' : ui_prod, 'qn' : ui_quant, 'amount': records[ui_prod]['pr'] * ui_quant},\n",
    "         18: {'prod' : ui_prod, 'qn' : ui_quant, 'amount': records[ui_prod]['pr'] * ui_quant},\n",
    "         19 : {'prod' : ui_prod, 'qn' : ui_quant, 'amount': records[ui_prod]['pr'] * ui_quant},\n",
    "         20 : {'prod' : ui_prod, 'qn' : ui_quant, 'amount': records[ui_prod]['pr'] * ui_quant},\n",
    "         21 : {'prod' : ui_prod, 'qn' : ui_quant, 'amount': records[ui_prod]['pr'] * ui_quant},\n",
    "         22 : {'prod' : ui_prod, 'qn' : ui_quant, 'amount': records[ui_prod]['pr'] * ui_quant},\n",
    "         23 : {'prod' : ui_prod, 'qn' : ui_quant, 'amount': records[ui_prod]['pr'] * ui_quant},\n",
    "         24 : {'prod' : ui_prod, 'qn' : ui_quant, 'amount': records[ui_prod]['pr'] * ui_quant},\n",
    "         25 : {'prod' : ui_prod, 'qn' : ui_quant, 'amount': records[ui_prod]['pr'] * ui_quant},\n",
    "         26 : {'prod' : ui_prod, 'qn' : ui_quant, 'amount': records[ui_prod]['pr'] * ui_quant},\n",
    "         27 : {'prod' : ui_prod, 'qn' : ui_quant, 'amount': records[ui_prod]['pr'] * ui_quant},\n",
    "         28 : {'prod' : ui_prod, 'qn' : ui_quant, 'amount': records[ui_prod]['pr'] * ui_quant},\n",
    "         29 : {'prod' : ui_prod, 'qn' : ui_quant, 'amount': records[ui_prod]['pr'] * ui_quant},\n",
    "         30 : {'prod' : ui_prod, 'qn' : ui_quant, 'amount': records[ui_prod]['pr'] * ui_quant},}"
   ]
  },
  {
   "cell_type": "code",
   "execution_count": 64,
   "metadata": {},
   "outputs": [],
   "source": [
    "sale = json.dumps(sales)"
   ]
  },
  {
   "cell_type": "code",
   "execution_count": 76,
   "metadata": {},
   "outputs": [],
   "source": [
    "s = json.loads(sale)\n",
    "\n",
    "fd = open(\"sales.json\",'w')\n",
    "fd.write(sale)\n",
    "fd.close()"
   ]
  },
  {
   "cell_type": "code",
   "execution_count": null,
   "metadata": {},
   "outputs": [],
   "source": []
  }
 ],
 "metadata": {
  "kernelspec": {
   "display_name": "Python 3",
   "language": "python",
   "name": "python3"
  },
  "language_info": {
   "codemirror_mode": {
    "name": "ipython",
    "version": 3
   },
   "file_extension": ".py",
   "mimetype": "text/x-python",
   "name": "python",
   "nbconvert_exporter": "python",
   "pygments_lexer": "ipython3",
   "version": "3.8.5"
  }
 },
 "nbformat": 4,
 "nbformat_minor": 4
}
